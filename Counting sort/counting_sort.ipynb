{
 "cells": [
  {
   "cell_type": "code",
   "execution_count": 1,
   "metadata": {},
   "outputs": [],
   "source": [
    "import timeit"
   ]
  },
  {
   "cell_type": "code",
   "execution_count": 2,
   "metadata": {},
   "outputs": [],
   "source": [
    "data_1 = open(\"random_100.txt\")\n",
    "data_2 = open(\"random_500.txt\")\n",
    "data_3 = open(\"random_1000.txt\")\n",
    "data_4 = open(\"random_2000.txt\")\n",
    "data_5 = open(\"random_3000.txt\")\n",
    "data_6 = open(\"random_10000.txt\")\n",
    "data_7 = open(\"random_20000.txt\")\n",
    "data_8 = open(\"random_30000.txt\")\n",
    "data_9 = open(\"random_100000.txt\")"
   ]
  },
  {
   "cell_type": "code",
   "execution_count": 3,
   "metadata": {},
   "outputs": [],
   "source": [
    "def string_to_int(data):    \n",
    "    line = data.readline()\n",
    "    data_list = []\n",
    "    while line != '':\n",
    "        line = int(line)\n",
    "        data_list.append(line)\n",
    "        line = data.readline()\n",
    "\n",
    "    return data_list"
   ]
  },
  {
   "cell_type": "code",
   "execution_count": 4,
   "metadata": {},
   "outputs": [],
   "source": [
    "def counting_sort(lista, maximo):\n",
    "    # lista = string_to_int(lista)\n",
    "    maximo += 1\n",
    "    conteo = [0] * maximo\n",
    "    \n",
    "    for n in lista:\n",
    "        conteo[n] += 1\n",
    "        \n",
    "    i = 0\n",
    "    \n",
    "    for j in range(maximo):\n",
    "        for k in range(conteo[j]):\n",
    "            lista[i] = j\n",
    "            i += 1\n",
    "            \n",
    "    return lista"
   ]
  },
  {
   "cell_type": "code",
   "execution_count": 108,
   "metadata": {},
   "outputs": [
    {
     "name": "stdout",
     "output_type": "stream",
     "text": [
      "89.99036462599997\n"
     ]
    }
   ],
   "source": [
    "data_1 = string_to_int(data_1)\n",
    "time_1 = timeit.timeit('counting_sort(data_1, max(data_1))', setup='from __main__ import counting_sort, data_1')\n",
    "print(time_1)"
   ]
  },
  {
   "cell_type": "code",
   "execution_count": 109,
   "metadata": {},
   "outputs": [
    {
     "name": "stdout",
     "output_type": "stream",
     "text": [
      "221.56126070899973\n"
     ]
    }
   ],
   "source": [
    "data_2 = string_to_int(data_2)\n",
    "time_2 = timeit.timeit('counting_sort(data_2, max(data_2))', setup='from __main__ import counting_sort, data_2')\n",
    "print(time_2)"
   ]
  },
  {
   "cell_type": "code",
   "execution_count": 110,
   "metadata": {},
   "outputs": [
    {
     "name": "stdout",
     "output_type": "stream",
     "text": [
      "323.02251108699966\n"
     ]
    }
   ],
   "source": [
    "data_3 = string_to_int(data_3)\n",
    "time_3 = timeit.timeit('counting_sort(data_3, max(data_3))', setup='from __main__ import counting_sort, data_3')\n",
    "print(time_3)"
   ]
  },
  {
   "cell_type": "code",
   "execution_count": 111,
   "metadata": {},
   "outputs": [
    {
     "name": "stdout",
     "output_type": "stream",
     "text": [
      "617.9006688969998\n"
     ]
    }
   ],
   "source": [
    "data_4 = string_to_int(data_4)\n",
    "time_4 = timeit.timeit('counting_sort(data_4, max(data_4))', setup='from __main__ import counting_sort, data_4')\n",
    "print(time_4)"
   ]
  },
  {
   "cell_type": "code",
   "execution_count": 112,
   "metadata": {},
   "outputs": [
    {
     "name": "stdout",
     "output_type": "stream",
     "text": [
      "835.8474027970005\n"
     ]
    }
   ],
   "source": [
    "data_5 = string_to_int(data_5)\n",
    "time_5 = timeit.timeit('counting_sort(data_5, max(data_5))', setup='from __main__ import counting_sort, data_5')\n",
    "print(time_5)"
   ]
  },
  {
   "cell_type": "code",
   "execution_count": 113,
   "metadata": {},
   "outputs": [
    {
     "name": "stdout",
     "output_type": "stream",
     "text": [
      "868.7115263449996\n"
     ]
    }
   ],
   "source": [
    "data_6 = string_to_int(data_6)\n",
    "time_6 = timeit.timeit('counting_sort(data_6, max(data_6))', setup='from __main__ import counting_sort, data_6')\n",
    "print(time_6)"
   ]
  },
  {
   "cell_type": "code",
   "execution_count": 114,
   "metadata": {},
   "outputs": [
    {
     "name": "stdout",
     "output_type": "stream",
     "text": [
      "2360.0669764569993\n"
     ]
    }
   ],
   "source": [
    "data_7 = string_to_int(data_7)\n",
    "time_7 = timeit.timeit('counting_sort(data_7, max(data_7))', setup='from __main__ import counting_sort, data_7')\n",
    "print(time_7)"
   ]
  },
  {
   "cell_type": "code",
   "execution_count": null,
   "metadata": {},
   "outputs": [],
   "source": [
    "data_8 = string_to_int(data_8)\n",
    "time_8 = timeit.timeit('counting_sort(data_8, max(data_8))', setup='from __main__ import counting_sort, data_8')\n",
    "print(time_8)"
   ]
  },
  {
   "cell_type": "code",
   "execution_count": null,
   "metadata": {},
   "outputs": [],
   "source": [
    "data_9 = string_to_int(data_9)\n",
    "time_9 = timeit.timeit('counting_sort(data_9, max(data_9))', setup='from __main__ import counting_sort, data_9')\n",
    "print(time_9)"
   ]
  },
  {
   "cell_type": "code",
   "execution_count": null,
   "metadata": {},
   "outputs": [],
   "source": [
    "import matplotlib.pyplot as plt\n",
    "fix, ax = plt.subplots()\n",
    "num_dates = ['100', '500', '1000', '2000', '3000', '10000', '20000', '30000', '100000']\n",
    "runtime = [time_1, time_2, time_3, time_4, time_5, time_6, time_7, time_8, time_9]\n",
    "ax.plot(num_dates, runtime, color='tab:green', linestyle = 'dashed')\n",
    "ax.set_title('counting sort', loc = 'center', fontdict = {'fontsize':14, 'fontweight':'bold', 'color':'tab:blue'})\n",
    "ax.set_xlabel(\"Array Size\", fontdict = {'fontsize':12, 'fontweight':'bold', 'color':'tab:purple'})\n",
    "ax.set_ylabel(\"Runtime\", fontdict = {'fontsize':12, 'fontweight':'bold', 'color':'tab:red'})\n",
    "plt.show()"
   ]
  }
 ],
 "metadata": {
  "kernelspec": {
   "display_name": "Python 3",
   "language": "python",
   "name": "python3"
  },
  "language_info": {
   "codemirror_mode": {
    "name": "ipython",
    "version": 3
   },
   "file_extension": ".py",
   "mimetype": "text/x-python",
   "name": "python",
   "nbconvert_exporter": "python",
   "pygments_lexer": "ipython3",
   "version": "3.8.5"
  }
 },
 "nbformat": 4,
 "nbformat_minor": 4
}
