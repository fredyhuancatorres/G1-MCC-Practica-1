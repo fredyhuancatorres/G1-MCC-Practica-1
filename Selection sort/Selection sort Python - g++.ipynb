{
 "cells": [
  {
   "cell_type": "code",
   "execution_count": 1,
   "id": "ec15aec1",
   "metadata": {},
   "outputs": [],
   "source": [
    "def selectionSort(array):\n",
    "    for step in range(len(array)):\n",
    "        min_idx = step\n",
    "        \n",
    "        for i in range(step +1, len(array)):\n",
    "            if array[i] < array[min_idx]:\n",
    "                min_idx = i\n",
    "        (array[step], array[min_idx]) = (array[min_idx], array[step])\n",
    "    return array"
   ]
  },
  {
   "cell_type": "code",
   "execution_count": 2,
   "id": "5f6448ff",
   "metadata": {},
   "outputs": [],
   "source": [
    "data = []\n",
    "x_values = []\n",
    "y_duration = []"
   ]
  },
  {
   "cell_type": "code",
   "execution_count": 3,
   "id": "f0c9545c",
   "metadata": {},
   "outputs": [],
   "source": [
    "x_values = [100, 500, 1000, 2000, 3000, 10000, 20000, 30000, 100000]"
   ]
  },
  {
   "cell_type": "code",
   "execution_count": 4,
   "id": "54c15a60",
   "metadata": {},
   "outputs": [],
   "source": [
    "import time\n",
    "import numpy as np\n",
    "import matplotlib.pyplot as plt"
   ]
  },
  {
   "cell_type": "code",
   "execution_count": 5,
   "id": "b3b3b854",
   "metadata": {},
   "outputs": [],
   "source": [
    "def lee_vector(txt):\n",
    "    with open(txt, 'r') as tf:\n",
    "        vector_txt = tf.read().split('\\n')\n",
    "        \n",
    "    vector_txt.pop(len(vector_txt)-1)\n",
    "    vector_txt = list(map(int,vector_txt))\n",
    "  \n",
    "    return vector_txt"
   ]
  },
  {
   "cell_type": "code",
   "execution_count": 6,
   "id": "e77c1168",
   "metadata": {},
   "outputs": [],
   "source": [
    "data.append(lee_vector('random_100.txt'))\n",
    "data.append(lee_vector('random_500.txt'))\n",
    "data.append(lee_vector('random_1000.txt'))\n",
    "data.append(lee_vector('random_2000.txt'))\n",
    "data.append(lee_vector('random_3000.txt'))\n",
    "data.append(lee_vector('random_10000.txt'))\n",
    "data.append(lee_vector('random_20000.txt'))\n",
    "data.append(lee_vector('random_30000.txt'))\n",
    "data.append(lee_vector('random_100000.txt'))\n"
   ]
  },
  {
   "cell_type": "code",
   "execution_count": 10,
   "id": "599c3966",
   "metadata": {},
   "outputs": [],
   "source": [
    "for i in data:\n",
    "    start = time.time()\n",
    "    selectionSort(i)\n",
    "    #sorted(i)\n",
    "    stop = time.time() - start\n",
    "    y_duration.append(stop)"
   ]
  },
  {
   "cell_type": "code",
   "execution_count": 26,
   "id": "7c521e89",
   "metadata": {},
   "outputs": [],
   "source": [
    "y_duration_gcc=[0.000, 0.000, 0.001, 0.004, 0.009,  0.102, 0.413, 0.924, 10.303]"
   ]
  },
  {
   "cell_type": "code",
   "execution_count": 27,
   "id": "8d3e310a",
   "metadata": {},
   "outputs": [
    {
     "data": {
      "image/png": "[encoded data removed]",
      "text/plain": [
       "<Figure size 432x288 with 1 Axes>"
      ]
     },
     "metadata": {
      "needs_background": "light"
     },
     "output_type": "display_data"
    }
   ],
   "source": [
    "plt.plot(x_values,y_duration, label=\"Selection sort Python\")\n",
    "plt.plot(x_values,y_duration_gcc, label=\"Selection sort C++\")\n",
    "plt.legend(bbox_to_anchor = (0.5,1))\n",
    "plt.xlabel('Array Size')\n",
    "plt.ylabel('Duration')\n",
    "plt.show()\n"
   ]
  }
 ],
 "metadata": {
  "kernelspec": {
   "display_name": "Python 3",
   "language": "python",
   "name": "python3"
  },
  "language_info": {
   "codemirror_mode": {
    "name": "ipython",
    "version": 3
   },
   "file_extension": ".py",
   "mimetype": "text/x-python",
   "name": "python",
   "nbconvert_exporter": "python",
   "pygments_lexer": "ipython3",
   "version": "3.9.4"
  }
 },
 "nbformat": 4,
 "nbformat_minor": 5
}
