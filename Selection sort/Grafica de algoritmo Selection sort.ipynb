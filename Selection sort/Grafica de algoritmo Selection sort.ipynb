{
 "cells": [
  {
   "cell_type": "code",
   "execution_count": 6,
   "id": "ec15aec1",
   "metadata": {},
   "outputs": [],
   "source": [
    "def selectionSort(array):\n",
    "    for step in range(len(array)):\n",
    "        min_idx = step\n",
    "        \n",
    "        for i in range(step +1, len(array)):\n",
    "            if array[i] < array[min_idx]:\n",
    "                min_idx = i\n",
    "        (array[step], array[min_idx]) = (array[min_idx], array[step])\n",
    "    return array"
   ]
  },
  {
   "cell_type": "code",
   "execution_count": null,
   "id": "3d6d7fe4",
   "metadata": {},
   "outputs": [],
   "source": [
    "data = [-2, 45, 0, 11, -9]\n",
    "ordenado=[]\n",
    "print(data)\n",
    "ordenado=selectionSort(data)\n",
    "print(data)\n",
    "\n"
   ]
  },
  {
   "cell_type": "code",
   "execution_count": null,
   "id": "042ba1c2",
   "metadata": {},
   "outputs": [],
   "source": [
    "def ordenar(array):\n",
    "    return sorted(array)"
   ]
  },
  {
   "cell_type": "code",
   "execution_count": null,
   "id": "0dd61bd1",
   "metadata": {},
   "outputs": [],
   "source": [
    "data = [-2, 45, 0, 11, -9]\n",
    "#ordenar(data)\n",
    "data\n",
    "ordenar(data)"
   ]
  },
  {
   "cell_type": "code",
   "execution_count": null,
   "id": "b851fe31",
   "metadata": {},
   "outputs": [],
   "source": [
    "data = [9,8,7,6,5,4,3,2,1,0]\n",
    "selectionSort(data)"
   ]
  },
  {
   "cell_type": "code",
   "execution_count": 1,
   "id": "ab38f9c7",
   "metadata": {},
   "outputs": [],
   "source": [
    "with open('random_100.txt', 'r') as tf:\n",
    "    vector_100 = tf.read().split('\\n')\n",
    "\n",
    "# using naive method to \n",
    "# perform conversion \n",
    "for i in range(0, len(vector_100)-1): \n",
    "    vector_100[i] = int(vector_100[i])\n",
    "    \n",
    "#--------------------------------------\n",
    "with open('random_500.txt', 'r') as tf:\n",
    "    vector_500 = tf.read().split('\\n')\n",
    "\n",
    "# using naive method to \n",
    "# perform conversion \n",
    "for i in range(0, len(vector_500)-1): \n",
    "    vector_500[i] = int(vector_500[i])\n",
    "\n",
    "#--------------------------------------\n",
    "    \n",
    "with open('random_1000.txt', 'r') as tf:\n",
    "    vector_1000 = tf.read().split('\\n')\n",
    "\n",
    "# using naive method to \n",
    "# perform conversion \n",
    "for i in range(0, len(vector_1000)-1): \n",
    "    vector_1000[i] = int(vector_1000[i])\n",
    "#--------------------------------------\n",
    "with open('random_2000.txt', 'r') as tf:\n",
    "    vector_2000 = tf.read().split('\\n')\n",
    "\n",
    "# using naive method to \n",
    "# perform conversion \n",
    "for i in range(0, len(vector_2000)-1):  \n",
    "    vector_2000[i] = int(vector_2000[i])\n",
    "\n",
    "#--------------------------------------\n",
    "with open('random_3000.txt', 'r') as tf:\n",
    "    vector_3000 = tf.read().split('\\n')\n",
    "\n",
    "# using naive method to \n",
    "# perform conversion \n",
    "for i in range(0, len(vector_3000)-1): \n",
    "    vector_3000[i] = int(vector_3000[i])\n",
    "\n",
    "#--------------------------------------\n",
    "with open('random_10000.txt', 'r') as tf:\n",
    "    vector_10000 = tf.read().split('\\n')\n",
    "\n",
    "# using naive method to \n",
    "# perform conversion \n",
    "for i in range(0, len(vector_10000)-1): \n",
    "    vector_10000[i] = int(vector_10000[i])\n",
    "\n",
    "#--------------------------------------\n",
    "\n",
    "with open('random_20000.txt', 'r') as tf:\n",
    "    vector_20000 = tf.read().split('\\n')\n",
    "\n",
    "# using naive method to \n",
    "# perform conversion \n",
    "for i in range(0, len(vector_20000)-1): \n",
    "    vector_20000[i] = int(vector_20000[i])\n",
    "#--------------------------------------\n",
    "\n",
    "with open('random_30000.txt', 'r') as tf:\n",
    "    vector_30000 = tf.read().split('\\n')\n",
    "\n",
    "# using naive method to \n",
    "# perform conversion \n",
    "for i in range(0, len(vector_30000)-1): \n",
    "    vector_30000[i] = int(vector_30000[i])\n",
    "#--------------------------------------\n",
    "\n",
    "with open('random_100000.txt', 'r') as tf:\n",
    "    vector_100000 = tf.read().split('\\n')\n",
    "\n",
    "# using naive method to \n",
    "# perform conversion \n",
    "for i in range(0, len(vector_100000)-1): \n",
    "    vector_100000[i] = int(vector_100000[i])"
   ]
  },
  {
   "cell_type": "code",
   "execution_count": 2,
   "id": "5f6448ff",
   "metadata": {},
   "outputs": [],
   "source": [
    "data = []\n",
    "x_values = []\n",
    "y_duration = []"
   ]
  },
  {
   "cell_type": "code",
   "execution_count": 3,
   "id": "7019f77b",
   "metadata": {},
   "outputs": [],
   "source": [
    "def create_size(min, max, steps):\n",
    "    for i in range(min, max, steps):\n",
    "        x_values.append(i)"
   ]
  },
  {
   "cell_type": "code",
   "execution_count": 4,
   "id": "989ae2e4",
   "metadata": {},
   "outputs": [],
   "source": [
    "#create_size(100, 100000, 9000)\n",
    "#create_size(5000,105000,2500)\n",
    "create_size(100,105000,10500)\n",
    "#create_size(1000,100000,1000)"
   ]
  },
  {
   "cell_type": "code",
   "execution_count": 5,
   "id": "54c15a60",
   "metadata": {},
   "outputs": [],
   "source": [
    "import time\n",
    "import numpy as np\n",
    "import matplotlib.pyplot as plt"
   ]
  },
  {
   "cell_type": "code",
   "execution_count": null,
   "id": "596c53ab",
   "metadata": {},
   "outputs": [],
   "source": [
    "def create_data():\n",
    "    for i in x_values:\n",
    "        data.append(np.random.randint(100, size = i))"
   ]
  },
  {
   "cell_type": "code",
   "execution_count": null,
   "id": "fede771c",
   "metadata": {
    "scrolled": true
   },
   "outputs": [],
   "source": [
    "create_data()"
   ]
  },
  {
   "cell_type": "code",
   "execution_count": 7,
   "id": "b61e18be",
   "metadata": {},
   "outputs": [],
   "source": [
    "#data.append(np.array(list(map(int, vector_100))))\n",
    "\n",
    "#result = list(map(int, vector_100))\n",
    "# data.append(np.array(result)\n",
    "#vector_100\n",
    "\n",
    "data.append(vector_100)\n",
    "data[0].pop(100)\n",
    "data.append(vector_500)\n",
    "data[1].pop(500)\n",
    "data.append(vector_1000)\n",
    "data[2].pop(1000)\n",
    "data.append(vector_2000)\n",
    "data[3].pop(2000)\n",
    "data.append(vector_3000)\n",
    "data[4].pop(3000)\n",
    "data.append(vector_10000)\n",
    "data[5].pop(10000)\n",
    "data.append(vector_20000)\n",
    "data[6].pop(20000)\n",
    "data.append(vector_30000)\n",
    "data[7].pop(30000)\n",
    "data.append(vector_100000)\n",
    "data[8].pop(100000)\n",
    "data.append(vector_100000)\n"
   ]
  },
  {
   "cell_type": "code",
   "execution_count": null,
   "id": "a0dd90ef",
   "metadata": {},
   "outputs": [],
   "source": [
    "print(x_values)"
   ]
  },
  {
   "cell_type": "code",
   "execution_count": 8,
   "id": "599c3966",
   "metadata": {},
   "outputs": [],
   "source": [
    "for i in data:\n",
    "    start = time.time()\n",
    "    selectionSort(i)\n",
    "    stop = time.time() - start\n",
    "    y_duration.append(stop)"
   ]
  },
  {
   "cell_type": "code",
   "execution_count": null,
   "id": "321dbf5e",
   "metadata": {},
   "outputs": [],
   "source": []
  },
  {
   "cell_type": "code",
   "execution_count": 9,
   "id": "8d3e310a",
   "metadata": {},
   "outputs": [
    {
     "data": {
      "image/png": "[encoded data removed]",
      "text/plain": [
       "<Figure size 432x288 with 1 Axes>"
      ]
     },
     "metadata": {
      "needs_background": "light"
     },
     "output_type": "display_data"
    }
   ],
   "source": [
    "plt.plot(x_values,y_duration)\n",
    "plt.xlabel('Array Size')\n",
    "plt.ylabel('Duration')\n",
    "plt.show()\n"
   ]
  },
  {
   "cell_type": "code",
   "execution_count": 10,
   "id": "e8e7a811",
   "metadata": {},
   "outputs": [
    {
     "data": {
      "text/plain": [
       "[100, 10600, 21100, 31600, 42100, 52600, 63100, 73600, 84100, 94600]"
      ]
     },
     "execution_count": 10,
     "metadata": {},
     "output_type": "execute_result"
    }
   ],
   "source": [
    "\n",
    "   x_values\n"
   ]
  },
  {
   "cell_type": "code",
   "execution_count": 12,
   "id": "53224aff",
   "metadata": {},
   "outputs": [
    {
     "data": {
      "text/plain": [
       "[0.00048804283142089844,\n",
       " 0.013837099075317383,\n",
       " 0.05735135078430176,\n",
       " 0.21870899200439453,\n",
       " 0.4883608818054199,\n",
       " 5.32172703742981,\n",
       " 21.04295587539673,\n",
       " 47.197407960891724,\n",
       " 525.201456785202,\n",
       " 532.7701461315155]"
      ]
     },
     "execution_count": 12,
     "metadata": {},
     "output_type": "execute_result"
    }
   ],
   "source": [
    "y_duration"
   ]
  },
  {
   "cell_type": "code",
   "execution_count": 16,
   "id": "c364080a",
   "metadata": {},
   "outputs": [],
   "source": [
    "x_values_array_size = [100, 500, 1000, 2000, 10000, 20000, 30000, 100000]\n",
    "y_values_duration = [0.00048804283142089844,\n",
    " 0.013837099075317383,\n",
    " 0.05735135078430176,\n",
    " 0.21870899200439453,\n",
    " 0.4883608818054199,\n",
    " 5.32172703742981,\n",
    " 21.04295587539673,\n",
    " 47.197407960891724]"
   ]
  },
  {
   "cell_type": "code",
   "execution_count": 17,
   "id": "d7aec08a",
   "metadata": {},
   "outputs": [
    {
     "data": {
      "image/png": "[encoded data removed]",
      "text/plain": [
       "<Figure size 432x288 with 1 Axes>"
      ]
     },
     "metadata": {
      "needs_background": "light"
     },
     "output_type": "display_data"
    }
   ],
   "source": [
    "plt.plot(x_values_array_size,y_values_duration)\n",
    "plt.xlabel('Array Size')\n",
    "plt.ylabel('Duration')\n",
    "plt.show()"
   ]
  }
 ],
 "metadata": {
  "kernelspec": {
   "display_name": "Python 3",
   "language": "python",
   "name": "python3"
  },
  "language_info": {
   "codemirror_mode": {
    "name": "ipython",
    "version": 3
   },
   "file_extension": ".py",
   "mimetype": "text/x-python",
   "name": "python",
   "nbconvert_exporter": "python",
   "pygments_lexer": "ipython3",
   "version": "3.9.4"
  }
 },
 "nbformat": 4,
 "nbformat_minor": 5
}
