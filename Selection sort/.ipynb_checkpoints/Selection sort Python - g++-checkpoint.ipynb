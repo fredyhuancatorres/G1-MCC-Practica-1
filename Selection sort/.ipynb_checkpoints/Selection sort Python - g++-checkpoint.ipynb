{
 "cells": [
  {
   "cell_type": "code",
   "execution_count": 1,
   "id": "ec15aec1",
   "metadata": {},
   "outputs": [],
   "source": [
    "def selectionSort(array):\n",
    "    for step in range(len(array)):\n",
    "        min_idx = step\n",
    "        \n",
    "        for i in range(step +1, len(array)):\n",
    "            if array[i] < array[min_idx]:\n",
    "                min_idx = i\n",
    "        (array[step], array[min_idx]) = (array[min_idx], array[step])\n",
    "    return array"
   ]
  },
  {
   "cell_type": "code",
   "execution_count": 2,
   "id": "5f6448ff",
   "metadata": {},
   "outputs": [],
   "source": [
    "data = []\n",
    "x_values = []\n",
    "y_duration = []"
   ]
  },
  {
   "cell_type": "code",
   "execution_count": null,
   "id": "7019f77b",
   "metadata": {},
   "outputs": [],
   "source": [
    "def create_size(min, max, steps):\n",
    "    for i in range(min, max, steps):\n",
    "        x_values.append(i)"
   ]
  },
  {
   "cell_type": "code",
   "execution_count": null,
   "id": "989ae2e4",
   "metadata": {},
   "outputs": [],
   "source": [
    "#create_size(100, 100000, 9000)\n",
    "#create_size(5000,105000,2500)\n",
    "create_size(100,105000,10500)\n",
    "#create_size(1000,100000,1000)"
   ]
  },
  {
   "cell_type": "code",
   "execution_count": 3,
   "id": "96f9c3ce",
   "metadata": {},
   "outputs": [],
   "source": [
    "x_values = [100, 500, 1000, 2000, 3000, 10000, 20000, 30000, 100000]"
   ]
  },
  {
   "cell_type": "code",
   "execution_count": 4,
   "id": "54c15a60",
   "metadata": {},
   "outputs": [],
   "source": [
    "import time\n",
    "import numpy as np\n",
    "import matplotlib.pyplot as plt"
   ]
  },
  {
   "cell_type": "code",
   "execution_count": null,
   "id": "596c53ab",
   "metadata": {},
   "outputs": [],
   "source": [
    "def create_data():\n",
    "    for i in x_values:\n",
    "        data.append(np.random.randint(100, size = i))"
   ]
  },
  {
   "cell_type": "code",
   "execution_count": null,
   "id": "fede771c",
   "metadata": {
    "scrolled": true
   },
   "outputs": [],
   "source": [
    "create_data()"
   ]
  },
  {
   "cell_type": "code",
   "execution_count": null,
   "id": "4992ecd2",
   "metadata": {},
   "outputs": [],
   "source": [
    "#data.append(np.array(list(map(int, vector_100))))\n",
    "\n",
    "#result = list(map(int, vector_100))\n",
    "# data.append(np.array(result)\n",
    "#vector_100\n",
    "\n",
    "data.append(vector_100)\n",
    "data[0].pop(100)\n",
    "data.append(vector_500)\n",
    "data[1].pop(500)\n",
    "data.append(vector_1000)\n",
    "data[2].pop(1000)\n",
    "data.append(vector_2000)\n",
    "data[3].pop(2000)\n",
    "data.append(vector_3000)\n",
    "data[4].pop(3000)\n",
    "data.append(vector_10000)\n",
    "data[5].pop(10000)\n",
    "data.append(vector_20000)\n",
    "data[6].pop(20000)\n",
    "data.append(vector_30000)\n",
    "data[7].pop(30000)\n",
    "data.append(vector_100000)\n",
    "data[8].pop(100000)\n",
    "data.append(vector_100000)\n"
   ]
  },
  {
   "cell_type": "code",
   "execution_count": null,
   "id": "3b311bcd",
   "metadata": {},
   "outputs": [],
   "source": [
    "with open('random_10.txt', 'r') as tf:\n",
    "    vector_10 = tf.read().split('\\n')\n",
    "\n",
    "# using naive method to \n",
    "# perform conversion \n",
    "#for i in range(0, 7): \n",
    "#    vector_10[i] = int(vector_10[i])\n",
    "#vector_10 = int(vector_10)\n",
    "\n"
   ]
  },
  {
   "cell_type": "code",
   "execution_count": 5,
   "id": "8693bdb5",
   "metadata": {},
   "outputs": [],
   "source": [
    "def lee_vector(txt):\n",
    "    with open(txt, 'r') as tf:\n",
    "        vector_txt = tf.read().split('\\n')\n",
    "        \n",
    "    vector_txt.pop(len(vector_txt)-1)\n",
    "    vector_txt = list(map(int,vector_txt))\n",
    "  \n",
    "    return vector_txt"
   ]
  },
  {
   "cell_type": "code",
   "execution_count": 6,
   "id": "abe7f4fc",
   "metadata": {},
   "outputs": [],
   "source": [
    "data.append(lee_vector('random_100.txt'))\n",
    "data.append(lee_vector('random_500.txt'))\n",
    "data.append(lee_vector('random_1000.txt'))\n",
    "data.append(lee_vector('random_2000.txt'))\n",
    "data.append(lee_vector('random_3000.txt'))\n",
    "data.append(lee_vector('random_10000.txt'))\n",
    "data.append(lee_vector('random_20000.txt'))\n",
    "data.append(lee_vector('random_30000.txt'))\n",
    "data.append(lee_vector('random_100000.txt'))\n"
   ]
  },
  {
   "cell_type": "code",
   "execution_count": null,
   "id": "7a0fadf6",
   "metadata": {},
   "outputs": [],
   "source": [
    "data"
   ]
  },
  {
   "cell_type": "code",
   "execution_count": 7,
   "id": "a0dd90ef",
   "metadata": {},
   "outputs": [
    {
     "name": "stdout",
     "output_type": "stream",
     "text": [
      "[100, 500, 1000, 2000, 3000, 10000, 20000, 30000, 100000]\n"
     ]
    }
   ],
   "source": [
    "print(x_values)"
   ]
  },
  {
   "cell_type": "code",
   "execution_count": 12,
   "id": "d6cc6a16",
   "metadata": {},
   "outputs": [
    {
     "data": {
      "text/plain": [
       "9"
      ]
     },
     "execution_count": 12,
     "metadata": {},
     "output_type": "execute_result"
    }
   ],
   "source": [
    "len(x_values)"
   ]
  },
  {
   "cell_type": "code",
   "execution_count": 10,
   "id": "599c3966",
   "metadata": {},
   "outputs": [],
   "source": [
    "for i in data:\n",
    "    start = time.time()\n",
    "    selectionSort(i)\n",
    "    #sorted(i)\n",
    "    stop = time.time() - start\n",
    "    y_duration.append(stop)"
   ]
  },
  {
   "cell_type": "code",
   "execution_count": 11,
   "id": "321dbf5e",
   "metadata": {},
   "outputs": [
    {
     "data": {
      "text/plain": [
       "9"
      ]
     },
     "execution_count": 11,
     "metadata": {},
     "output_type": "execute_result"
    }
   ],
   "source": [
    "len(y_duration)"
   ]
  },
  {
   "cell_type": "code",
   "execution_count": 13,
   "id": "8d3e310a",
   "metadata": {},
   "outputs": [
    {
     "data": {
      "image/png": "[encoded data removed]",
      "text/plain": [
       "<Figure size 432x288 with 1 Axes>"
      ]
     },
     "metadata": {
      "needs_background": "light"
     },
     "output_type": "display_data"
    }
   ],
   "source": [
    "plt.plot(x_values,y_duration)\n",
    "plt.plot(x,label = \"Selection sort Python\")\n",
    "plt.xlabel('Array Size')\n",
    "plt.ylabel('Duration')\n",
    "plt.show()\n"
   ]
  },
  {
   "cell_type": "code",
   "execution_count": null,
   "id": "e8e7a811",
   "metadata": {},
   "outputs": [],
   "source": [
    "\n",
    "   x_values\n"
   ]
  },
  {
   "cell_type": "code",
   "execution_count": null,
   "id": "53224aff",
   "metadata": {},
   "outputs": [],
   "source": [
    "y_duration"
   ]
  },
  {
   "cell_type": "code",
   "execution_count": null,
   "id": "c364080a",
   "metadata": {},
   "outputs": [],
   "source": [
    "x_values_array_size = [100, 500, 1000, 2000, 10000, 20000, 30000, 100000]\n",
    "y_values_duration = [0.00048804283142089844,\n",
    " 0.013837099075317383,\n",
    " 0.05735135078430176,\n",
    " 0.21870899200439453,\n",
    " 0.4883608818054199,\n",
    " 5.32172703742981,\n",
    " 21.04295587539673,\n",
    " 47.197407960891724]"
   ]
  },
  {
   "cell_type": "code",
   "execution_count": null,
   "id": "0fd657a3",
   "metadata": {},
   "outputs": [],
   "source": [
    "plt.plot(x_values_array_size,y_values_duration)\n",
    "plt.xlabel('Array Size')\n",
    "plt.ylabel('Duration')\n",
    "plt.show()"
   ]
  }
 ],
 "metadata": {
  "kernelspec": {
   "display_name": "Python 3",
   "language": "python",
   "name": "python3"
  },
  "language_info": {
   "codemirror_mode": {
    "name": "ipython",
    "version": 3
   },
   "file_extension": ".py",
   "mimetype": "text/x-python",
   "name": "python",
   "nbconvert_exporter": "python",
   "pygments_lexer": "ipython3",
   "version": "3.9.4"
  }
 },
 "nbformat": 4,
 "nbformat_minor": 5
}
