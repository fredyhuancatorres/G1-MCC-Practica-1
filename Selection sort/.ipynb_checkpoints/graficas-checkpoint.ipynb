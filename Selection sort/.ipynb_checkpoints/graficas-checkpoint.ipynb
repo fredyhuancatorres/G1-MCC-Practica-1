{
 "cells": [
  {
   "cell_type": "code",
   "execution_count": null,
   "id": "7cad8f24",
   "metadata": {},
   "outputs": [],
   "source": [
    "pip install matplotlib"
   ]
  },
  {
   "cell_type": "code",
   "execution_count": null,
   "id": "2c040ea8",
   "metadata": {},
   "outputs": [],
   "source": [
    "import matplotlib.pyplot as plt\n",
    "import numpy as np"
   ]
  },
  {
   "cell_type": "code",
   "execution_count": null,
   "id": "866c0b05",
   "metadata": {},
   "outputs": [],
   "source": [
    "x = np.linspace(1,5,101)\n",
    "y1 = np.exp(x)\n",
    "y2 = np.log(x)"
   ]
  },
  {
   "cell_type": "code",
   "execution_count": null,
   "id": "e35fa82a",
   "metadata": {},
   "outputs": [],
   "source": [
    "plt.plot(x,y1,label = \"selection sort C++\")\n",
    "plt.plot(x,y2,label = \"selection sort Python\")\n",
    "plt.legend(bbox_to_anchor = (0.5,1))\n",
    "plt.xlabel(\"Data\")\n",
    "plt.ylabel(\"MiliSeconds\")"
   ]
  }
 ],
 "metadata": {
  "kernelspec": {
   "display_name": "Python 3",
   "language": "python",
   "name": "python3"
  },
  "language_info": {
   "codemirror_mode": {
    "name": "ipython",
    "version": 3
   },
   "file_extension": ".py",
   "mimetype": "text/x-python",
   "name": "python",
   "nbconvert_exporter": "python",
   "pygments_lexer": "ipython3",
   "version": "3.9.4"
  }
 },
 "nbformat": 4,
 "nbformat_minor": 5
}
