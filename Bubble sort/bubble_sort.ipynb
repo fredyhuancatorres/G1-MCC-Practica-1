{
 "cells": [
  {
   "cell_type": "code",
   "execution_count": 2,
   "metadata": {},
   "outputs": [],
   "source": [
    "import timeit"
   ]
  },
  {
   "cell_type": "code",
   "execution_count": 3,
   "metadata": {},
   "outputs": [],
   "source": [
    "data_1 = open(\"random_100.txt\")\n",
    "data_2 = open(\"random_500.txt\")\n",
    "data_3 = open(\"random_1000.txt\")\n",
    "data_4 = open(\"random_2000.txt\")\n",
    "data_5 = open(\"random_3000.txt\")\n",
    "data_6 = open(\"random_10000.txt\")\n",
    "data_7 = open(\"random_20000.txt\")\n",
    "data_8 = open(\"random_30000.txt\")\n",
    "data_9 = open(\"random_100000.txt\")"
   ]
  },
  {
   "cell_type": "code",
   "execution_count": 4,
   "metadata": {},
   "outputs": [],
   "source": [
    "def string_to_int(data):    \n",
    "    line = data.readline()\n",
    "    data_list = []\n",
    "    while line != '':\n",
    "        line = int(line)\n",
    "        data_list.append(line)\n",
    "        line = data.readline()\n",
    "\n",
    "    return data_list"
   ]
  },
  {
   "cell_type": "code",
   "execution_count": 5,
   "metadata": {},
   "outputs": [],
   "source": [
    "def bubble_sort(data):\n",
    "    data_int = string_to_int(data)\n",
    "    band = False\n",
    "    while band == False:\n",
    "        band = True\n",
    "        for i in range(len(data_int) - 1):\n",
    "            if data_int[i] > data_int[i + 1]:\n",
    "                aux = data_int[i]\n",
    "                data_int[i] = data_int[i + 1]\n",
    "                data_int[i + 1] = aux\n",
    "                band = False\n",
    "\n",
    "    return data_int"
   ]
  },
  {
   "cell_type": "code",
   "execution_count": 6,
   "metadata": {},
   "outputs": [
    {
     "name": "stdout",
     "output_type": "stream",
     "text": [
      "7.1251438040008\n"
     ]
    }
   ],
   "source": [
    "# row_1 = bubble_sort(data_1)\n",
    "time_1 = timeit.timeit('bubble_sort(data_1)', setup='from __main__ import bubble_sort, data_1')\n",
    "print(time_1)"
   ]
  },
  {
   "cell_type": "code",
   "execution_count": 7,
   "metadata": {},
   "outputs": [
    {
     "name": "stdout",
     "output_type": "stream",
     "text": [
      "7.515493950999371\n"
     ]
    }
   ],
   "source": [
    "# row_2 = bubble_sort(data_2)\n",
    "time_2 = timeit.timeit('bubble_sort(data_2)', setup='from __main__ import bubble_sort, data_2')\n",
    "print(time_2)"
   ]
  },
  {
   "cell_type": "code",
   "execution_count": 8,
   "metadata": {},
   "outputs": [
    {
     "name": "stdout",
     "output_type": "stream",
     "text": [
      "7.745741920999535\n"
     ]
    }
   ],
   "source": [
    "time_3 = timeit.timeit('bubble_sort(data_3)', setup='from __main__ import bubble_sort, data_3')\n",
    "print(time_3)"
   ]
  },
  {
   "cell_type": "code",
   "execution_count": 9,
   "metadata": {},
   "outputs": [
    {
     "name": "stdout",
     "output_type": "stream",
     "text": [
      "8.715054659000089\n"
     ]
    }
   ],
   "source": [
    "time_4 = timeit.timeit('bubble_sort(data_4)', setup='from __main__ import bubble_sort, data_4')\n",
    "print(time_4)"
   ]
  },
  {
   "cell_type": "code",
   "execution_count": 10,
   "metadata": {},
   "outputs": [
    {
     "name": "stdout",
     "output_type": "stream",
     "text": [
      "8.88145343799988\n"
     ]
    }
   ],
   "source": [
    "time_5 = timeit.timeit('bubble_sort(data_5)', setup='from __main__ import bubble_sort, data_5')\n",
    "print(time_5)"
   ]
  },
  {
   "cell_type": "code",
   "execution_count": 11,
   "metadata": {},
   "outputs": [
    {
     "name": "stdout",
     "output_type": "stream",
     "text": [
      "9.0441766619997\n"
     ]
    }
   ],
   "source": [
    "time_6 = timeit.timeit('bubble_sort(data_6)', setup='from __main__ import bubble_sort, data_6')\n",
    "print(time_6)"
   ]
  },
  {
   "cell_type": "code",
   "execution_count": 12,
   "metadata": {},
   "outputs": [
    {
     "name": "stdout",
     "output_type": "stream",
     "text": [
      "36.94919155799926\n"
     ]
    }
   ],
   "source": [
    "time_7 = timeit.timeit('bubble_sort(data_7)', setup='from __main__ import bubble_sort, data_7')\n",
    "print(time_7)"
   ]
  },
  {
   "cell_type": "code",
   "execution_count": 13,
   "metadata": {},
   "outputs": [
    {
     "name": "stdout",
     "output_type": "stream",
     "text": [
      "104.00058545399952\n"
     ]
    }
   ],
   "source": [
    "time_8 = timeit.timeit('bubble_sort(data_8)', setup='from __main__ import bubble_sort, data_8')\n",
    "print(time_8)"
   ]
  },
  {
   "cell_type": "code",
   "execution_count": 14,
   "metadata": {},
   "outputs": [
    {
     "name": "stdout",
     "output_type": "stream",
     "text": [
      "103.57578966899928\n"
     ]
    }
   ],
   "source": [
    "time_9 = timeit.timeit('bubble_sort(data_9)', setup='from __main__ import bubble_sort, data_9')\n",
    "print(time_9)"
   ]
  },
  {
   "cell_type": "code",
   "execution_count": 31,
   "metadata": {},
   "outputs": [
    {
     "data": {
      "image/png": "[encoded data removed]",
      "text/plain": [
       "<Figure size 432x288 with 1 Axes>"
      ]
     },
     "metadata": {
      "needs_background": "light"
     },
     "output_type": "display_data"
    }
   ],
   "source": [
    "import matplotlib.pyplot as plt\n",
    "fix, ax = plt.subplots()\n",
    "num_dates = ['100', '500', '1000', '2000', '3000', '10000', '20000', '30000', '100000']\n",
    "runtime = [time_1, time_2, time_3, time_4, time_5, time_6, time_7, time_8, time_9]\n",
    "ax.plot(num_dates, runtime, color='tab:green', linestyle = 'dashed')\n",
    "ax.set_title('bubble sort', loc = 'center', fontdict = {'fontsize':14, 'fontweight':'bold', 'color':'tab:blue'})\n",
    "ax.set_xlabel(\"Array Size\", fontdict = {'fontsize':12, 'fontweight':'bold', 'color':'tab:purple'})\n",
    "ax.set_ylabel(\"Runtime\", fontdict = {'fontsize':12, 'fontweight':'bold', 'color':'tab:red'})\n",
    "plt.show()"
   ]
  },
  {
   "cell_type": "code",
   "execution_count": null,
   "metadata": {},
   "outputs": [],
   "source": []
  }
 ],
 "metadata": {
  "kernelspec": {
   "display_name": "Python 3",
   "language": "python",
   "name": "python3"
  },
  "language_info": {
   "codemirror_mode": {
    "name": "ipython",
    "version": 3
   },
   "file_extension": ".py",
   "mimetype": "text/x-python",
   "name": "python",
   "nbconvert_exporter": "python",
   "pygments_lexer": "ipython3",
   "version": "3.8.5"
  }
 },
 "nbformat": 4,
 "nbformat_minor": 4
}
